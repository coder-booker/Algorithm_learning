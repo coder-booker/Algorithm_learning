{
 "cells": [
  {
   "cell_type": "code",
   "execution_count": 3,
   "metadata": {},
   "outputs": [],
   "source": [
    "def binarySearch(nums, target) -> int:\n",
    "    left = 0; \n",
    "    right = len(nums) - 1; # 注意\n",
    "\n",
    "    while(left <= right):\n",
    "        print(left, right)\n",
    "        mid = left + (right - left) // 2; # 防止整型溢出\n",
    "        if(nums[mid] == target):\n",
    "            return mid; \n",
    "        elif(nums[mid] < target):\n",
    "            left = mid + 1; # 注意\n",
    "        elif(nums[mid] > target):\n",
    "            right = mid - 1; # 注意\n",
    "\n",
    "    return -1"
   ]
  },
  {
   "cell_type": "code",
   "execution_count": 5,
   "metadata": {},
   "outputs": [
    {
     "name": "stdout",
     "output_type": "stream",
     "text": [
      "0 4\n",
      "2\n"
     ]
    }
   ],
   "source": [
    "a = [1, 2, 3, 4, 5, 6, 7]\n",
    "print(binarySearch(a, 3))"
   ]
  },
  {
   "cell_type": "code",
   "execution_count": 1,
   "metadata": {},
   "outputs": [
    {
     "name": "stdout",
     "output_type": "stream",
     "text": [
      "24\n"
     ]
    }
   ],
   "source": [
    "print(len(\"111036369260679051122113\"))"
   ]
  }
 ],
 "metadata": {
  "kernelspec": {
   "display_name": "Python 3",
   "language": "python",
   "name": "python3"
  },
  "language_info": {
   "codemirror_mode": {
    "name": "ipython",
    "version": 3
   },
   "file_extension": ".py",
   "mimetype": "text/x-python",
   "name": "python",
   "nbconvert_exporter": "python",
   "pygments_lexer": "ipython3",
   "version": "3.8.0"
  }
 },
 "nbformat": 4,
 "nbformat_minor": 2
}
